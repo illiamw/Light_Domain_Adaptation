{
 "cells": [
  {
   "cell_type": "markdown",
   "metadata": {},
   "source": [
    "Split Data Set - PixMatch\n"
   ]
  },
  {
   "cell_type": "code",
   "execution_count": 1,
   "metadata": {},
   "outputs": [
    {
     "name": "stdout",
     "output_type": "stream",
     "text": [
      "Requirement already satisfied: numpy in c:\\users\\will_\\.conda\\envs\\sam_light_ad_37\\lib\\site-packages (1.21.6)\n"
     ]
    }
   ],
   "source": [
    "!pip install numpy"
   ]
  },
  {
   "cell_type": "code",
   "execution_count": 7,
   "metadata": {},
   "outputs": [
    {
     "name": "stdout",
     "output_type": "stream",
     "text": [
      "Imagens separadas, renomeadas e listas salvas com sucesso!\n"
     ]
    }
   ],
   "source": [
    "import os\n",
    "import shutil\n",
    "import numpy as np\n",
    "\n",
    "# Defina o diretório contendo as pastas de imagens\n",
    "source_dir = 'C:/Users/will_/OneDrive/Documentos/TCC/DADOS/IMAGEM'\n",
    "\n",
    "# Defina o diretório de destino\n",
    "dest_dir = 'C:/Users/will_/OneDrive/Documentos/TCC/DADOS/CityScapesBrazil'\n",
    "\n",
    "# Crie os diretórios principais se não existirem\n",
    "train_dir = os.path.join(dest_dir, 'train')\n",
    "test_dir = os.path.join(dest_dir, 'test')\n",
    "val_dir = os.path.join(dest_dir, 'val')\n",
    "\n",
    "for directory in [train_dir, test_dir, val_dir]:\n",
    "    os.makedirs(directory, exist_ok=True)\n",
    "\n",
    "# Armazena a lista de todas as imagens e suas subpastas\n",
    "all_image_files = []\n",
    "subfolder_structure = {}\n",
    "\n",
    "# Itera sobre as subpastas em source_dir\n",
    "subfolders = [f for f in os.listdir(source_dir) if os.path.isdir(os.path.join(source_dir, f))]\n",
    "for subfolder in subfolders:\n",
    "    src_subfolder = os.path.join(source_dir, subfolder)\n",
    "    # Armazena a estrutura de subpastas\n",
    "    subfolder_structure[subfolder] = {'train': [], 'test': [], 'val': []}\n",
    "\n",
    "    # Obtenha a lista de todas as imagens na subpasta\n",
    "    image_files = [os.path.join(src_subfolder, f) for f in os.listdir(src_subfolder) if os.path.isfile(os.path.join(src_subfolder, f))]\n",
    "    num_images = len(image_files)\n",
    "\n",
    "    if num_images == 0:\n",
    "        print(f\"Nenhuma imagem encontrada na subpasta {subfolder}.\")\n",
    "        continue\n",
    "\n",
    "    all_image_files.extend(image_files)\n",
    "\n",
    "# Embaralha todas as imagens\n",
    "num_images = len(all_image_files)\n",
    "indices = np.arange(num_images)\n",
    "np.random.shuffle(indices)\n",
    "\n",
    "# Define as proporções\n",
    "train_split = 0.8\n",
    "test_split = 0.1\n",
    "val_split = 0.1\n",
    "\n",
    "# Calcula os limites de divisão\n",
    "num_train = int(train_split * num_images)\n",
    "num_test = int(test_split * num_images)\n",
    "num_val = num_images - num_train - num_test  # O restante vai para validação\n",
    "\n",
    "# Separa os índices para treino, teste e validação\n",
    "train_indices = indices[:num_train]\n",
    "test_indices = indices[num_train:num_train + num_test]\n",
    "val_indices = indices[num_train + num_test:]\n",
    "\n",
    "# Função para mover e renomear imagens e salvar IDs em arquivos .txt\n",
    "def move_and_rename(indices, src_files, dest_folder, txt_filename, start_id, all_txt_file, trainval_txt_file=None):\n",
    "    with open(txt_filename, 'w') as txt_file, open(all_txt_file, 'a') as all_txt:\n",
    "        if trainval_txt_file:\n",
    "            with open(trainval_txt_file, 'a') as trainval_txt:\n",
    "                for i, idx in enumerate(indices):\n",
    "                    src_file = src_files[idx]\n",
    "                    \n",
    "                    # Mantenha a estrutura de subpastas\n",
    "                    subfolder = os.path.basename(os.path.dirname(src_file))\n",
    "                    dest_file = f\"{subfolder}_{start_id + i}.jpg\"  # Nome contínuo começando com start_id\n",
    "                    dest_subfolder = os.path.join(dest_folder, subfolder)\n",
    "                    os.makedirs(dest_subfolder, exist_ok=True)\n",
    "                    dest_path = os.path.join(dest_subfolder, dest_file)\n",
    "                    shutil.copy(src_file, dest_path)\n",
    "                    # Escreve o nome do arquivo (sem extensão) no arquivo .txt\n",
    "                    txt_file.write(f\"{subfolder}_{start_id + i}\\n\")\n",
    "                    # Escreve o nome do arquivo (sem extensão) no arquivo all.txt\n",
    "                    all_txt.write(f\"{subfolder}_{start_id + i}\\n\")\n",
    "                    # Adiciona os nomes de treino e validação a trainval.txt\n",
    "                    trainval_txt.write(f\"{subfolder}_{start_id + i}\\n\")\n",
    "        else:\n",
    "            for i, idx in enumerate(indices):\n",
    "                src_file = src_files[idx]\n",
    "                \n",
    "                # Mantenha a estrutura de subpastas\n",
    "                subfolder = os.path.basename(os.path.dirname(src_file))\n",
    "                dest_file = f\"{subfolder}_{start_id + i}.jpg\"  # Nome contínuo começando com start_id\n",
    "                dest_subfolder = os.path.join(dest_folder, subfolder)\n",
    "                os.makedirs(dest_subfolder, exist_ok=True)\n",
    "                dest_path = os.path.join(dest_subfolder, dest_file)\n",
    "                shutil.copy(src_file, dest_path)\n",
    "                # Escreve o nome do arquivo (sem extensão) no arquivo .txt\n",
    "                txt_file.write(f\"{subfolder}_{start_id + i}\\n\")\n",
    "                # Escreve o nome do arquivo (sem extensão) no arquivo all.txt\n",
    "                all_txt.write(f\"{subfolder}_{start_id + i}\\n\")\n",
    "\n",
    "# Cria os arquivos .txt com nomes contínuos\n",
    "move_and_rename(train_indices, all_image_files, train_dir, os.path.join(dest_dir, 'train.txt'), 1, os.path.join(dest_dir, 'all.txt'), os.path.join(dest_dir, 'trainval.txt'))\n",
    "move_and_rename(val_indices, all_image_files, val_dir, os.path.join(dest_dir, 'val.txt'), len(train_indices) + 1, os.path.join(dest_dir, 'all.txt'), os.path.join(dest_dir, 'trainval.txt'))\n",
    "move_and_rename(test_indices, all_image_files, test_dir, os.path.join(dest_dir, 'test.txt'), len(train_indices) + len(val_indices) + 1, os.path.join(dest_dir, 'all.txt'))\n",
    "\n",
    "print(f\"Imagens separadas, renomeadas e listas salvas com sucesso!\")\n"
   ]
  },
  {
   "cell_type": "markdown",
   "metadata": {},
   "source": [
    "Preparando GTA5"
   ]
  },
  {
   "cell_type": "code",
   "execution_count": 10,
   "metadata": {},
   "outputs": [
    {
     "name": "stdout",
     "output_type": "stream",
     "text": [
      "Descompactando C:/Users/will_/OneDrive/Documentos/TCC/DADOS/GTA5\\01_images.zip...\n",
      "Descompactado em C:/Users/will_/OneDrive/Documentos/TCC/DADOS/GTA5Dataset\\images\n",
      "Descompactando C:/Users/will_/OneDrive/Documentos/TCC/DADOS/GTA5\\02_images.zip...\n",
      "Descompactado em C:/Users/will_/OneDrive/Documentos/TCC/DADOS/GTA5Dataset\\images\n",
      "Descompactando C:/Users/will_/OneDrive/Documentos/TCC/DADOS/GTA5\\03_images.zip...\n",
      "Descompactado em C:/Users/will_/OneDrive/Documentos/TCC/DADOS/GTA5Dataset\\images\n",
      "Descompactando C:/Users/will_/OneDrive/Documentos/TCC/DADOS/GTA5\\04_images.zip...\n",
      "Descompactado em C:/Users/will_/OneDrive/Documentos/TCC/DADOS/GTA5Dataset\\images\n",
      "Descompactando C:/Users/will_/OneDrive/Documentos/TCC/DADOS/GTA5\\05_images.zip...\n",
      "Descompactado em C:/Users/will_/OneDrive/Documentos/TCC/DADOS/GTA5Dataset\\images\n",
      "Descompactando C:/Users/will_/OneDrive/Documentos/TCC/DADOS/GTA5\\06_images.zip...\n",
      "Descompactado em C:/Users/will_/OneDrive/Documentos/TCC/DADOS/GTA5Dataset\\images\n",
      "Descompactando C:/Users/will_/OneDrive/Documentos/TCC/DADOS/GTA5\\07_images.zip...\n",
      "Descompactado em C:/Users/will_/OneDrive/Documentos/TCC/DADOS/GTA5Dataset\\images\n",
      "Descompactando C:/Users/will_/OneDrive/Documentos/TCC/DADOS/GTA5\\08_images.zip...\n",
      "Descompactado em C:/Users/will_/OneDrive/Documentos/TCC/DADOS/GTA5Dataset\\images\n",
      "Descompactando C:/Users/will_/OneDrive/Documentos/TCC/DADOS/GTA5\\09_images.zip...\n",
      "Descompactado em C:/Users/will_/OneDrive/Documentos/TCC/DADOS/GTA5Dataset\\images\n",
      "Descompactando C:/Users/will_/OneDrive/Documentos/TCC/DADOS/GTA5\\10_images.zip...\n",
      "Descompactado em C:/Users/will_/OneDrive/Documentos/TCC/DADOS/GTA5Dataset\\images\n",
      "Descompactando C:/Users/will_/OneDrive/Documentos/TCC/DADOS/GTA5\\01_labels.zip...\n",
      "Descompactado em C:/Users/will_/OneDrive/Documentos/TCC/DADOS/GTA5Dataset\\labels\n",
      "Descompactando C:/Users/will_/OneDrive/Documentos/TCC/DADOS/GTA5\\02_labels.zip...\n",
      "Descompactado em C:/Users/will_/OneDrive/Documentos/TCC/DADOS/GTA5Dataset\\labels\n",
      "Descompactando C:/Users/will_/OneDrive/Documentos/TCC/DADOS/GTA5\\03_labels.zip...\n",
      "Descompactado em C:/Users/will_/OneDrive/Documentos/TCC/DADOS/GTA5Dataset\\labels\n",
      "Descompactando C:/Users/will_/OneDrive/Documentos/TCC/DADOS/GTA5\\04_labels.zip...\n",
      "Descompactado em C:/Users/will_/OneDrive/Documentos/TCC/DADOS/GTA5Dataset\\labels\n",
      "Descompactando C:/Users/will_/OneDrive/Documentos/TCC/DADOS/GTA5\\05_labels.zip...\n",
      "Descompactado em C:/Users/will_/OneDrive/Documentos/TCC/DADOS/GTA5Dataset\\labels\n",
      "Descompactando C:/Users/will_/OneDrive/Documentos/TCC/DADOS/GTA5\\06_labels.zip...\n",
      "Descompactado em C:/Users/will_/OneDrive/Documentos/TCC/DADOS/GTA5Dataset\\labels\n",
      "Descompactando C:/Users/will_/OneDrive/Documentos/TCC/DADOS/GTA5\\07_labels.zip...\n",
      "Descompactado em C:/Users/will_/OneDrive/Documentos/TCC/DADOS/GTA5Dataset\\labels\n",
      "Descompactando C:/Users/will_/OneDrive/Documentos/TCC/DADOS/GTA5\\08_labels.zip...\n",
      "Descompactado em C:/Users/will_/OneDrive/Documentos/TCC/DADOS/GTA5Dataset\\labels\n",
      "Descompactando C:/Users/will_/OneDrive/Documentos/TCC/DADOS/GTA5\\09_labels.zip...\n",
      "Descompactado em C:/Users/will_/OneDrive/Documentos/TCC/DADOS/GTA5Dataset\\labels\n",
      "Descompactando C:/Users/will_/OneDrive/Documentos/TCC/DADOS/GTA5\\10_labels.zip...\n",
      "Descompactado em C:/Users/will_/OneDrive/Documentos/TCC/DADOS/GTA5Dataset\\labels\n",
      "Todos os arquivos ZIP foram descompactados com sucesso!\n"
     ]
    }
   ],
   "source": [
    "import os\n",
    "import zipfile\n",
    "\n",
    "# Diretório onde os arquivos ZIP estão localizados\n",
    "zip_dir = 'C:/Users/will_/OneDrive/Documentos/TCC/DADOS/GTA5'\n",
    "\n",
    "# Diretório onde o conteúdo descompactado será salvo\n",
    "extract_dir = 'C:/Users/will_/OneDrive/Documentos/TCC/DADOS/GTA5Dataset'\n",
    "\n",
    "# Diretórios para imagens e rótulos\n",
    "images_dir = os.path.join(extract_dir, 'images')\n",
    "labels_dir = os.path.join(extract_dir, 'labels')\n",
    "\n",
    "# Crie os diretórios se não existirem\n",
    "os.makedirs(images_dir, exist_ok=True)\n",
    "os.makedirs(labels_dir, exist_ok=True)\n",
    "\n",
    "# Função para descompactar arquivos ZIP\n",
    "def unzip_files(zip_files, dest_folder):\n",
    "    for zip_file in zip_files:\n",
    "        zip_path = os.path.join(zip_dir, zip_file)\n",
    "        print(f\"Descompactando {zip_path}...\")\n",
    "        with zipfile.ZipFile(zip_path, 'r') as zip_ref:\n",
    "            zip_ref.extractall(dest_folder)\n",
    "        print(f\"Descompactado em {dest_folder}\")\n",
    "\n",
    "# Liste os arquivos ZIP e separe-os por tipo\n",
    "zip_files = [f for f in os.listdir(zip_dir) if f.endswith('.zip')]\n",
    "\n",
    "# Filtrar arquivos para imagens e rótulos\n",
    "image_zips = sorted([f for f in zip_files if '_images.zip' in f], key=lambda x: int(x.split('_')[0]))\n",
    "label_zips = sorted([f for f in zip_files if '_labels.zip' in f], key=lambda x: int(x.split('_')[0]))\n",
    "\n",
    "# Descompacte os arquivos\n",
    "unzip_files(image_zips, images_dir)\n",
    "unzip_files(label_zips, labels_dir)\n",
    "\n",
    "print(\"Todos os arquivos ZIP foram descompactados com sucesso!\")\n"
   ]
  },
  {
   "cell_type": "code",
   "execution_count": 11,
   "metadata": {},
   "outputs": [
    {
     "name": "stdout",
     "output_type": "stream",
     "text": [
      "Máscara salva com sucesso como mask_image.jpg!\n"
     ]
    }
   ],
   "source": [
    "import numpy as np\n",
    "from PIL import Image\n",
    "\n",
    "# Suponha que `mask` seja seu array NumPy com forma (H, W)\n",
    "# Aqui está um exemplo de máscara com valores aleatórios\n",
    "H, W = 368, 512\n",
    "mask = np.random.rand(H, W) * 255  # Criar um array com valores aleatórios e escalar para [0, 255]\n",
    "\n",
    "# Certifique-se de que os valores estão no intervalo [0, 255]\n",
    "mask = np.clip(mask, 0, 255).astype(np.uint8)\n",
    "\n",
    "# Converter o array NumPy para uma imagem PIL\n",
    "image = Image.fromarray(mask)\n",
    "\n",
    "# Salvar a imagem como um arquivo JPEG\n",
    "image.save('mask_image.jpg')\n",
    "\n",
    "print(\"Máscara salva com sucesso como mask_image.jpg!\")\n"
   ]
  },
  {
   "cell_type": "code",
   "execution_count": null,
   "metadata": {},
   "outputs": [],
   "source": []
  }
 ],
 "metadata": {
  "kernelspec": {
   "display_name": "LiteSeg",
   "language": "python",
   "name": "python3"
  },
  "language_info": {
   "codemirror_mode": {
    "name": "ipython",
    "version": 3
   },
   "file_extension": ".py",
   "mimetype": "text/x-python",
   "name": "python",
   "nbconvert_exporter": "python",
   "pygments_lexer": "ipython3",
   "version": "3.7.12"
  }
 },
 "nbformat": 4,
 "nbformat_minor": 2
}
